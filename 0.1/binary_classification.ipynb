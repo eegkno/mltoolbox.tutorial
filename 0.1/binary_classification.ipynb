{
 "cells": [
  {
   "cell_type": "markdown",
   "metadata": {},
   "source": [
    "# Binary Classification"
   ]
  },
  {
   "cell_type": "markdown",
   "metadata": {},
   "source": [
    "Last modification: 2017-10-16"
   ]
  },
  {
   "cell_type": "code",
   "execution_count": 1,
   "metadata": {
    "collapsed": true
   },
   "outputs": [],
   "source": [
    "# Load the iris dataset and randomly permute it\n",
    "from sklearn import datasets\n",
    "from sklearn.ensemble import RandomForestClassifier\n",
    "from sklearn.svm import SVC\n",
    "from sklearn.model_selection import StratifiedKFold\n",
    "\n",
    "from mltoolbox.model_selection.classification import MultiClassifier"
   ]
  },
  {
   "cell_type": "markdown",
   "metadata": {},
   "source": [
    "In this example, the breast cancer wisconsin dataset contains 569 samples and 30 features, details of the dataset can be find [here](http://scikit-learn.org/stable/modules/generated/sklearn.datasets.load_breast_cancer.html \"breast cancer wisconsin dataset\")."
   ]
  },
  {
   "cell_type": "code",
   "execution_count": 2,
   "metadata": {
    "collapsed": false
   },
   "outputs": [
    {
     "name": "stdout",
     "output_type": "stream",
     "text": [
      "samples:569, features:30\n"
     ]
    }
   ],
   "source": [
    "# Load data\n",
    "cancer = datasets.load_breast_cancer()\n",
    "X = cancer.data\n",
    "y = cancer.target\n",
    "n_samples, n_features = X.shape\n",
    "print(\"samples:{}, features:{}\".format(n_samples, n_features))"
   ]
  },
  {
   "cell_type": "markdown",
   "metadata": {},
   "source": [
    "This section is used to configure the classifiers that are going to be used in the classification, in this case, the *Support Vector Machines* [(SVC)](http://scikit-learn.org/stable/modules/generated/sklearn.svm.SVC.html) and *Random Forest* classifiers [(RF)](http://scikit-learn.org/stable/modules/generated/sklearn.ensemble.RandomForestClassifier.html) are going to be applied. The dictionary **models** is used to declare the classifiers and their parameters that are *NOT* going to be tunned in the cross-validation. The dictionary **model_params** is used to specify the parameters that *DO* will be tunned in the cross-validation. The dictionary  *cv_params* is used to configure how the [grid cross-validation](http://scikit-learn.org/stable/modules/generated/sklearn.model_selection.GridSearchCV.html) is going to be performed. "
   ]
  },
  {
   "cell_type": "code",
   "execution_count": 3,
   "metadata": {
    "collapsed": false
   },
   "outputs": [],
   "source": [
    "# Configuration\n",
    "\n",
    "random_state = 2017 # seed used by the random number generator\n",
    "\n",
    "models = {\n",
    "    # NOTE: SVC and RFC are the names that will be used to make reference to the models after the training step.\n",
    "    'SVC': SVC(probability=True,\n",
    "               random_state=random_state),\n",
    "    'RFC': RandomForestClassifier(random_state=random_state)\n",
    "}\n",
    "\n",
    "model_params = {\n",
    "    'SVC': {'kernel':['linear', 'rbf', 'sigmoid']},\n",
    "    'RFC': {'n_estimators': [25,50, 75, 100]}\n",
    "}\n",
    "\n",
    "cv_params = {\n",
    "    'cv': StratifiedKFold(n_splits=3, shuffle=False, random_state=random_state)\n",
    "}"
   ]
  },
  {
   "cell_type": "markdown",
   "metadata": {},
   "source": [
    "The *MultiClassifier* trains the multiple estimators previouly configured. First, the data is divided *n_splits* times, in this case in 5 folds using the [StratifiedKFold](http://scikit-learn.org/stable/modules/generated/sklearn.model_selection.StratifiedKFold.html) class. As it is shown in the following table, the data is divided 5 times, four of the 5 blocks will be used for training (blue ones), while one will be used for testing (orange one). In addition, if the parameter *shuffle=True*, the data will be rearranged before splitting into blocks. \n",
    "\n",
    "<img src=\"./images/folds.png\" alt=\"\" height=\"250\" width=\"250\">"
   ]
  },
  {
   "cell_type": "code",
   "execution_count": 4,
   "metadata": {
    "collapsed": false
   },
   "outputs": [],
   "source": [
    "# Training\n",
    "mc = MultiClassifier(n_splits=5, shuffle=True, random_state=random_state)"
   ]
  },
  {
   "cell_type": "markdown",
   "metadata": {},
   "source": [
    "Second, the method *train()* receives the data, and the dictionaries with the configrations to compute the training. As an example the fold_1 is taken, it is divided in 3 parts to perform the cross-validation (specified in the dictionary *cv_params*). In the cross-validation, two parts are taken to tune the parameters of the classifiers, and one to test them. \n",
    "\n",
    "<img src=\"./images/cross-validation.png\" alt=\"\" height=\"250\" width=\"250\">"
   ]
  },
  {
   "cell_type": "code",
   "execution_count": 5,
   "metadata": {
    "collapsed": true
   },
   "outputs": [],
   "source": [
    "mc.train(X, y, models, model_params,  cv_params=cv_params)"
   ]
  },
  {
   "cell_type": "markdown",
   "metadata": {},
   "source": [
    "Third, once that the best parameters were obtained, a model is generated from the training data. Following the example, this model is then tested on the fold_1:test block. As soon as the training and test were perfromed for each fold, the results can be visualized in a report."
   ]
  },
  {
   "cell_type": "code",
   "execution_count": 6,
   "metadata": {
    "collapsed": false,
    "scrolled": true
   },
   "outputs": [
    {
     "name": "stdout",
     "output_type": "stream",
     "text": [
      "RFC\n",
      "               Accuracy Specificity  Precision     Recall   F1-score        AUC\n",
      "\n",
      "          1      0.9478     1.0000     1.0000     0.9167     0.9565     0.9583\n",
      "          2      0.9739     0.9302     0.9600     1.0000     0.9796     0.9651\n",
      "          3      0.9735     0.9524     0.9722     0.9859     0.9790     0.9691\n",
      "          4      0.9646     0.9048     0.9467     1.0000     0.9726     0.9524\n",
      "          5      0.9469     0.8810     0.9333     0.9859     0.9589     0.9334\n",
      "\n",
      "    Average      0.9613     0.9337     0.9624     0.9777     0.9693     0.9557\n",
      "\n",
      "\n",
      "SVC\n",
      "               Accuracy Specificity  Precision     Recall   F1-score        AUC\n",
      "\n",
      "          1      0.9478     1.0000     1.0000     0.9167     0.9565     0.9583\n",
      "          2      0.9652     0.9302     0.9595     0.9861     0.9726     0.9582\n",
      "          3      0.9735     0.9286     0.9595     1.0000     0.9793     0.9643\n",
      "          4      0.9735     0.9762     0.9857     0.9718     0.9787     0.9740\n",
      "          5      0.9115     0.8095     0.8961     0.9718     0.9324     0.8907\n",
      "\n",
      "    Average      0.9543     0.9289     0.9601     0.9693     0.9639     0.9491\n",
      "\n",
      "\n"
     ]
    }
   ],
   "source": [
    "# Results\n",
    "print('RFC\\n{}\\n'.format(mc.report_score_summary_by_classifier('RFC')))\n",
    "print('SVC\\n{}\\n'.format(mc.report_score_summary_by_classifier('SVC')))"
   ]
  },
  {
   "cell_type": "markdown",
   "metadata": {},
   "source": [
    "In order to analize an especific fold, you can obtaine the indices of the data used for training and testing, the model trained, as well as the prediction on the test data. The method best_estimator() has the parameter *fold_key*, if it is not set, the method returns the fold with the highest accuracy."
   ]
  },
  {
   "cell_type": "markdown",
   "metadata": {},
   "source": [
    "#### TODO: Use the measurement as a parameter to get the best estimator"
   ]
  },
  {
   "cell_type": "code",
   "execution_count": 7,
   "metadata": {
    "collapsed": false,
    "scrolled": false
   },
   "outputs": [
    {
     "name": "stdout",
     "output_type": "stream",
     "text": [
      ">>Best model in fold: 2\n",
      ">>>Trained model \n",
      "RandomForestClassifier(bootstrap=True, class_weight=None, criterion='gini',\n",
      "            max_depth=None, max_features='auto', max_leaf_nodes=None,\n",
      "            min_impurity_decrease=0.0, min_impurity_split=None,\n",
      "            min_samples_leaf=1, min_samples_split=2,\n",
      "            min_weight_fraction_leaf=0.0, n_estimators=25, n_jobs=1,\n",
      "            oob_score=False, random_state=2017, verbose=0,\n",
      "            warm_start=False)\n",
      ">>>Predicted labels: \n",
      "[0 0 0 0 0 0 1 1 0 1 1 0 1 0 1 0 0 1 1 1 1 1 1 1 1 0 0 1 1 0 1 1 0 0 0 0 1\n",
      " 0 0 0 1 0 0 0 0 1 0 1 1 1 0 1 1 1 1 1 1 0 1 1 1 1 1 1 0 1 1 1 0 0 1 0 1 0\n",
      " 1 1 1 0 1 1 1 1 1 1 1 1 1 1 0 1 1 1 0 1 1 1 0 1 1 1 1 1 1 1 1 1 1 1 0 1 1\n",
      " 1 1 0 0]\n",
      ">>>Indices of the samples used for training: \n",
      "[  0   1   2   3   4   5   6   7   8   9  10  13  14  15  16  17  19  20\n",
      "  21  22  23  24  25  26  27  28  29  30  31  33  34  36  37  38  39  40\n",
      "  41  42  43  44  45  46  47  48  49  50  51  52  54  55  56  57  59  60\n",
      "  62  63  65  66  67  68  70  74  76  77  78  80  81  82  83  84  85  86\n",
      "  88  89  90  92  94  95  97  99 100 101 102 103 104 105 107 108 109 110\n",
      " 113 114 115 117 118 119 120 121 122 124 125 127 128 129 130 131 133 134\n",
      " 135 136 138 140 142 143 144 145 146 148 149 150 151 152 153 154 157 158\n",
      " 159 160 162 163 165 166 167 168 169 170 172 173 175 176 178 179 181 182\n",
      " 183 184 185 186 187 188 189 191 195 196 198 199 200 201 202 203 204 205\n",
      " 206 207 208 209 210 211 212 213 215 217 218 220 221 222 223 224 225 226\n",
      " 227 229 230 232 233 235 237 238 239 240 241 242 244 246 248 249 250 252\n",
      " 253 254 255 256 257 258 259 260 261 262 263 264 265 266 267 268 269 271\n",
      " 272 275 276 277 278 279 280 281 282 283 284 286 287 288 289 290 292 293\n",
      " 294 295 296 297 298 299 300 301 302 305 307 308 309 310 311 312 313 315\n",
      " 316 318 319 320 321 322 323 325 327 328 329 330 331 332 333 334 335 338\n",
      " 340 341 343 344 345 346 347 348 349 350 351 353 354 356 357 358 359 360\n",
      " 361 362 363 364 365 367 368 369 370 371 372 373 374 375 376 378 379 380\n",
      " 381 382 385 386 387 388 390 391 392 393 394 395 396 397 399 400 401 402\n",
      " 403 406 407 408 410 411 413 414 415 416 417 418 421 422 423 424 425 427\n",
      " 428 430 431 432 433 434 435 436 437 438 440 442 443 444 446 448 449 450\n",
      " 451 452 453 454 455 456 457 458 460 461 462 463 464 465 466 467 469 472\n",
      " 473 474 475 476 477 478 479 480 482 483 484 485 486 487 488 489 490 491\n",
      " 493 495 496 497 498 499 501 503 506 507 509 510 511 512 513 515 516 517\n",
      " 518 519 520 521 523 524 525 526 529 530 531 533 534 537 538 539 540 542\n",
      " 543 544 545 546 547 548 549 550 551 552 553 555 557 558 559 560 561 562\n",
      " 563 566 567 568]\n",
      ">>>Indices of samples used for predicting: \n",
      "[ 11  12  18  32  35  53  58  61  64  69  71  72  73  75  79  87  91  93\n",
      "  96  98 106 111 112 116 123 126 132 137 139 141 147 155 156 161 164 171\n",
      " 174 177 180 190 192 193 194 197 214 216 219 228 231 234 236 243 245 247\n",
      " 251 270 273 274 285 291 303 304 306 314 317 324 326 336 337 339 342 352\n",
      " 355 366 377 383 384 389 398 404 405 409 412 419 420 426 429 439 441 445\n",
      " 447 459 468 470 471 481 492 494 500 502 504 505 508 514 522 527 528 532\n",
      " 535 536 541 554 556 564 565]\n"
     ]
    }
   ],
   "source": [
    "# Get the results of the parition that has the high accuracy\n",
    "\n",
    "fold, bm_model, bm_y_pred, bm_train_indices, bm_test_indices = mc.best_estimator('RFC')['RFC']\n",
    "\n",
    "print(\">>Best model in fold: {}\".format(fold))\n",
    "print(\">>>Trained model \\n{}\".format(bm_model))\n",
    "print(\">>>Predicted labels: \\n{}\".format(bm_y_pred))\n",
    "print(\">>>Indices of the samples used for training: \\n{}\".format(bm_train_indices))\n",
    "print(\">>>Indices of samples used for predicting: \\n{}\".format(bm_test_indices))"
   ]
  },
  {
   "cell_type": "markdown",
   "metadata": {},
   "source": [
    "In the case that you need to train the model again using the data of an especific fold, you can use the *bm_train_indices* and *bm_test_indices*."
   ]
  },
  {
   "cell_type": "code",
   "execution_count": 8,
   "metadata": {
    "collapsed": false
   },
   "outputs": [],
   "source": [
    "# Recover the partition of the dataset based on the results of the best model\n",
    "X_train_final, X_test_final = X[bm_train_indices], X[bm_test_indices]\n",
    "y_train_final, y_test_final = y[bm_train_indices], y[bm_test_indices]"
   ]
  },
  {
   "cell_type": "code",
   "execution_count": 9,
   "metadata": {
    "collapsed": false
   },
   "outputs": [
    {
     "name": "stdout",
     "output_type": "stream",
     "text": [
      "Final score 0.9739\n"
     ]
    }
   ],
   "source": [
    "# Testing the best model using again all the training set\n",
    "bm_model.fit(X_train_final, y_train_final)\n",
    "print(\"Final score {0:.4f}\".format(bm_model.score(X_test_final, y_test_final)))"
   ]
  },
  {
   "cell_type": "markdown",
   "metadata": {},
   "source": [
    "Also, the feature importances can be obtained if the algorithm has the option."
   ]
  },
  {
   "cell_type": "code",
   "execution_count": 10,
   "metadata": {
    "collapsed": false
   },
   "outputs": [],
   "source": [
    "importances = mc.feature_importances('RFC')"
   ]
  },
  {
   "cell_type": "code",
   "execution_count": 11,
   "metadata": {
    "collapsed": false
   },
   "outputs": [
    {
     "data": {
      "text/plain": [
       "<matplotlib.text.Text at 0x1dfdaeb9358>"
      ]
     },
     "execution_count": 11,
     "metadata": {},
     "output_type": "execute_result"
    },
    {
     "data": {
      "image/png": "[encoded data removed]",
      "text/plain": [
       "<matplotlib.figure.Figure at 0x1dfdae66c88>"
      ]
     },
     "metadata": {},
     "output_type": "display_data"
    }
   ],
   "source": [
    "%matplotlib inline\n",
    "import matplotlib.pyplot as plt\n",
    "\n",
    "indices = range(n_features)\n",
    "f, ax = plt.subplots(figsize=(11, 9))\n",
    "plt.title(\"Feature importances\", fontsize = 20)\n",
    "plt.bar(indices, importances, color=\"black\", align=\"center\")\n",
    "\n",
    "plt.xticks(indices)\n",
    "plt.ylabel(\"Importance\", fontsize = 18)\n",
    "plt.xlabel(\"Index of the feature\", fontsize = 18)"
   ]
  }
 ],
 "metadata": {
  "anaconda-cloud": {},
  "kernelspec": {
   "display_name": "Python [conda env:mltoolbox_testing]",
   "language": "python",
   "name": "conda-env-mltoolbox_testing-py"
  },
  "language_info": {
   "codemirror_mode": {
    "name": "ipython",
    "version": 3
   },
   "file_extension": ".py",
   "mimetype": "text/x-python",
   "name": "python",
   "nbconvert_exporter": "python",
   "pygments_lexer": "ipython3",
   "version": "3.5.2"
  }
 },
 "nbformat": 4,
 "nbformat_minor": 2
}
