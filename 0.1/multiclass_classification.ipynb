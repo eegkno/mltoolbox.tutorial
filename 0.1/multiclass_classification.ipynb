{
 "cells": [
  {
   "cell_type": "markdown",
   "metadata": {},
   "source": [
    "# Multiclass Classification"
   ]
  },
  {
   "cell_type": "markdown",
   "metadata": {},
   "source": [
    "Last modification: 2017-10-16"
   ]
  },
  {
   "cell_type": "code",
   "execution_count": 1,
   "metadata": {
    "collapsed": false
   },
   "outputs": [],
   "source": [
    "# Load the iris dataset and randomly permute it\n",
    "import numpy as np\n",
    "#import logging\n",
    "#logger = logging.getLogger()\n",
    "#logger.setLevel(logging.DEBUG)\n",
    "#logging.debug(\"test\")\n",
    "\n",
    "from sklearn.datasets import load_iris\n",
    "from sklearn.ensemble import RandomForestClassifier\n",
    "from sklearn.svm import SVC\n",
    "from sklearn.model_selection import StratifiedKFold\n",
    "from sklearn import preprocessing\n",
    "\n",
    "from mltoolbox.model_selection.classification import MultiClassifier"
   ]
  },
  {
   "cell_type": "markdown",
   "metadata": {},
   "source": [
    "In this example, the wine dataset contains 178 samples, 13 features, and 3 clases. Details of the dataset can be find [here](http://scikit-learn.org/stable/modules/generated/sklearn.datasets.load_wine.html#sklearn.datasets.load_wine\")."
   ]
  },
  {
   "cell_type": "code",
   "execution_count": 2,
   "metadata": {
    "collapsed": false
   },
   "outputs": [
    {
     "name": "stdout",
     "output_type": "stream",
     "text": [
      "samples:150, features:4, labels:[0 1 2]\n"
     ]
    }
   ],
   "source": [
    "# Load data\n",
    "iris = load_iris()\n",
    "X = iris.data\n",
    "y = iris.target\n",
    "n_samples, n_features = X.shape\n",
    "print(\"samples:{}, features:{}, labels:{}\".format(n_samples, n_features, np.unique(y)))"
   ]
  },
  {
   "cell_type": "code",
   "execution_count": 3,
   "metadata": {
    "collapsed": false
   },
   "outputs": [
    {
     "name": "stdout",
     "output_type": "stream",
     "text": [
      "After standardization:-0.0000, 1.0000\n"
     ]
    }
   ],
   "source": [
    "# Preprocessing\n",
    "std_scale = preprocessing.StandardScaler().fit(X)\n",
    "X_std = std_scale.transform(X)\n",
    "print('After standardization:{:.4f}, {:.4f}'.format(X_std.mean(), X_std.std()))"
   ]
  },
  {
   "cell_type": "markdown",
   "metadata": {},
   "source": [
    "This section is used to configure the classifiers that are going to be used in the classification, in this case, the *Support Vector Machines* [(SVC)](http://scikit-learn.org/stable/modules/generated/sklearn.svm.SVC.html) and *Random Forest* classifiers [(RF)](http://scikit-learn.org/stable/modules/generated/sklearn.ensemble.RandomForestClassifier.html) are going to be applied. The dictionary **models** is used to declare the classifiers and their parameters that are *NOT* going to be tunned in the cross-validation. The dictionary **model_params** is used to specify the parameters that *DO* will be tunned in the cross-validation. The dictionary  *cv_params* is used to configure how the [grid cross-validation](http://scikit-learn.org/stable/modules/generated/sklearn.model_selection.GridSearchCV.html) is going to be performed. "
   ]
  },
  {
   "cell_type": "code",
   "execution_count": 4,
   "metadata": {
    "collapsed": false
   },
   "outputs": [],
   "source": [
    "# Configuration\n",
    "\n",
    "random_state = 2017 # seed used by the random number generator\n",
    "\n",
    "models = {\n",
    "    # NOTE: SVC and RFC are the names that will be used to make reference to the models after the training step.\n",
    "    'SVC': SVC(probability=True,\n",
    "               random_state=random_state),\n",
    "    'RFC': RandomForestClassifier(random_state=random_state)\n",
    "}\n",
    "\n",
    "model_params = {\n",
    "    'SVC': {'kernel':['linear', 'rbf', 'sigmoid']},\n",
    "    'RFC': {'n_estimators': [25,50, 75, 100]}\n",
    "}\n",
    "\n",
    "cv_params = {\n",
    "    'cv': StratifiedKFold(n_splits=3, shuffle=False, random_state=random_state)\n",
    "}"
   ]
  },
  {
   "cell_type": "markdown",
   "metadata": {},
   "source": [
    "The *MultiClassifier* trains the multiple estimators previouly configured. First, the data is divided *n_splits* times, in this case in 5 folds using the [StratifiedKFold](http://scikit-learn.org/stable/modules/generated/sklearn.model_selection.StratifiedKFold.html) class. As it is shown in the following table, the data is divided 5 times, four of the 5 blocks will be used for training (blue ones), while one will be used for testing (orange one). In addition, if the parameter *shuffle=True*, the data will be rearranged before splitting into blocks. \n",
    "\n",
    "<img src=\"./images/folds.png\" alt=\"\" height=\"250\" width=\"250\">"
   ]
  },
  {
   "cell_type": "code",
   "execution_count": 5,
   "metadata": {
    "collapsed": false
   },
   "outputs": [],
   "source": [
    "# Training\n",
    "mc = MultiClassifier(n_splits=5, shuffle=True, random_state=random_state)"
   ]
  },
  {
   "cell_type": "markdown",
   "metadata": {},
   "source": [
    "Second, the method *train()* receives the data, and the dictionaries with the configrations to compute the training. As an example the fold_1 is taken, it is divided in 3 parts to perform the cross-validation (specified in the dictionary *cv_params*). In the cross-validation, two parts are taken to tune the parameters of the classifiers, and one to test them. \n",
    "\n",
    "<img src=\"./images/cross-validation.png\" alt=\"\" height=\"250\" width=\"250\">"
   ]
  },
  {
   "cell_type": "code",
   "execution_count": 6,
   "metadata": {
    "collapsed": false
   },
   "outputs": [],
   "source": [
    "mc.train(X, y, models, model_params,  cv_params=cv_params)"
   ]
  },
  {
   "cell_type": "markdown",
   "metadata": {},
   "source": [
    "Third, once that the best parameters were obtained, a model is generated from the training data. Following the example, this model is then tested on the fold_1:test block. As soon as the training and test were perfromed for each fold, the results can be visualized in a report."
   ]
  },
  {
   "cell_type": "code",
   "execution_count": 7,
   "metadata": {
    "collapsed": false,
    "scrolled": false
   },
   "outputs": [
    {
     "name": "stdout",
     "output_type": "stream",
     "text": [
      "RFC\n",
      "             Accuracy  Precision     Recall   F1-score\n",
      "\n",
      "        1      0.9000     0.9024     0.9000     0.8997\n",
      "        2      0.9667     0.9697     0.9667     0.9666\n",
      "        3      1.0000     1.0000     1.0000     1.0000\n",
      "        4      0.9667     0.9697     0.9667     0.9666\n",
      "        5      0.9333     0.9333     0.9333     0.9333\n",
      "\n",
      "  Average      0.9533     0.9550     0.9533     0.9532\n",
      "\n",
      "\n",
      "SVC\n",
      "             Accuracy  Precision     Recall   F1-score\n",
      "\n",
      "        1      0.9667     0.9697     0.9667     0.9666\n",
      "        2      0.9667     0.9697     0.9667     0.9666\n",
      "        3      1.0000     1.0000     1.0000     1.0000\n",
      "        4      1.0000     1.0000     1.0000     1.0000\n",
      "        5      0.9333     0.9333     0.9333     0.9333\n",
      "\n",
      "  Average      0.9733     0.9745     0.9733     0.9733\n",
      "\n",
      "\n"
     ]
    }
   ],
   "source": [
    "# Results\n",
    "print('RFC\\n{}\\n'.format(mc.report_score_summary_by_classifier('RFC')))\n",
    "print('SVC\\n{}\\n'.format(mc.report_score_summary_by_classifier('SVC')))"
   ]
  },
  {
   "cell_type": "markdown",
   "metadata": {},
   "source": [
    "In order to analize an especific fold, you can obtaine the indices of the data used for training and testing, the model trained, as well as the prediction on the test data. The method best_estimator() has the parameter *fold_key*, if it is not set, the method returns the fold with the highest accuracy."
   ]
  },
  {
   "cell_type": "markdown",
   "metadata": {},
   "source": [
    "#### TODO: Use the measurement as a parameter to get the best estimator"
   ]
  },
  {
   "cell_type": "code",
   "execution_count": 8,
   "metadata": {
    "collapsed": false,
    "scrolled": false
   },
   "outputs": [
    {
     "name": "stdout",
     "output_type": "stream",
     "text": [
      ">>Best model in fold: 3\n",
      ">>>Trained model \n",
      "RandomForestClassifier(bootstrap=True, class_weight=None, criterion='gini',\n",
      "            max_depth=None, max_features='auto', max_leaf_nodes=None,\n",
      "            min_impurity_split=1e-07, min_samples_leaf=1,\n",
      "            min_samples_split=2, min_weight_fraction_leaf=0.0,\n",
      "            n_estimators=75, n_jobs=1, oob_score=False, random_state=2017,\n",
      "            verbose=0, warm_start=False)\n",
      ">>>Predicted labels: \n",
      "[0 0 0 0 0 0 0 0 0 0 1 1 1 1 1 1 1 1 1 1 2 2 2 2 2 2 2 2 2 2]\n",
      ">>>Indices of the samples used for training: \n",
      "[  0   2   3   6   7   8   9  13  14  15  16  17  18  19  20  21  22  23\n",
      "  25  26  28  29  30  31  32  33  34  35  36  37  38  39  41  42  43  44\n",
      "  45  46  47  48  50  51  52  53  54  55  56  57  58  59  60  62  64  65\n",
      "  68  70  71  73  74  75  77  78  80  81  82  83  84  85  87  88  89  90\n",
      "  91  92  94  95  96  97  98  99 100 101 104 105 106 108 109 111 112 113\n",
      " 114 115 116 117 118 119 120 121 124 125 126 127 128 129 130 131 133 134\n",
      " 135 136 137 139 142 143 144 145 146 147 148 149]\n",
      ">>>Indices of samples used for predicting: \n",
      "[  1   4   5  10  11  12  24  27  40  49  61  63  66  67  69  72  76  79\n",
      "  86  93 102 103 107 110 122 123 132 138 140 141]\n"
     ]
    }
   ],
   "source": [
    "# Get the results of the parition that has the high accuracy\n",
    "\n",
    "fold, bm_model, bm_y_pred, bm_train_indices, bm_test_indices = mc.best_estimator('RFC')['RFC']\n",
    "\n",
    "print(\">>Best model in fold: {}\".format(fold))\n",
    "print(\">>>Trained model \\n{}\".format(bm_model))\n",
    "print(\">>>Predicted labels: \\n{}\".format(bm_y_pred))\n",
    "print(\">>>Indices of the samples used for training: \\n{}\".format(bm_train_indices))\n",
    "print(\">>>Indices of samples used for predicting: \\n{}\".format(bm_test_indices))"
   ]
  },
  {
   "cell_type": "markdown",
   "metadata": {},
   "source": [
    "In the case that you need to train the model again using the data of an especific fold, you can use the *bm_train_indices* and *bm_test_indices*."
   ]
  },
  {
   "cell_type": "code",
   "execution_count": 9,
   "metadata": {
    "collapsed": false
   },
   "outputs": [],
   "source": [
    "# Recover the partition of the dataset based on the results of the best model\n",
    "X_train_final, X_test_final = X[bm_train_indices], X[bm_test_indices]\n",
    "y_train_final, y_test_final = y[bm_train_indices], y[bm_test_indices]"
   ]
  },
  {
   "cell_type": "code",
   "execution_count": 10,
   "metadata": {
    "collapsed": false
   },
   "outputs": [
    {
     "name": "stdout",
     "output_type": "stream",
     "text": [
      "Final score 1.0000\n"
     ]
    }
   ],
   "source": [
    "# Testing the best model using again all the training set\n",
    "bm_model.fit(X_train_final, y_train_final)\n",
    "print(\"Final score {0:.4f}\".format(bm_model.score(X_test_final, y_test_final)))"
   ]
  },
  {
   "cell_type": "markdown",
   "metadata": {},
   "source": [
    "Also, the feature importances can be obtained if the algorithm has the option."
   ]
  },
  {
   "cell_type": "code",
   "execution_count": 11,
   "metadata": {
    "collapsed": false
   },
   "outputs": [],
   "source": [
    "importances = mc.feature_importances('RFC')"
   ]
  },
  {
   "cell_type": "code",
   "execution_count": 12,
   "metadata": {
    "collapsed": false
   },
   "outputs": [
    {
     "data": {
      "text/plain": [
       "<matplotlib.text.Text at 0x24268c25358>"
      ]
     },
     "execution_count": 12,
     "metadata": {},
     "output_type": "execute_result"
    },
    {
     "data": {
      "image/png": "[encoded data removed]",
      "text/plain": [
       "<matplotlib.figure.Figure at 0x24267215d68>"
      ]
     },
     "metadata": {},
     "output_type": "display_data"
    }
   ],
   "source": [
    "%matplotlib inline\n",
    "import matplotlib.pyplot as plt\n",
    "\n",
    "indices = range(n_features)\n",
    "f, ax = plt.subplots(figsize=(11, 9))\n",
    "plt.title(\"Feature importances\", fontsize = 20)\n",
    "plt.bar(indices, importances, color=\"black\", align=\"center\")\n",
    "\n",
    "plt.xticks(indices)\n",
    "plt.ylabel(\"Importance\", fontsize = 18)\n",
    "plt.xlabel(\"Index of the feature\", fontsize = 18)"
   ]
  },
  {
   "cell_type": "code",
   "execution_count": null,
   "metadata": {
    "collapsed": true
   },
   "outputs": [],
   "source": []
  }
 ],
 "metadata": {
  "anaconda-cloud": {},
  "kernelspec": {
   "display_name": "Python [conda env:tensorflow]",
   "language": "python",
   "name": "conda-env-tensorflow-py"
  },
  "language_info": {
   "codemirror_mode": {
    "name": "ipython",
    "version": 3
   },
   "file_extension": ".py",
   "mimetype": "text/x-python",
   "name": "python",
   "nbconvert_exporter": "python",
   "pygments_lexer": "ipython3",
   "version": "3.5.3"
  }
 },
 "nbformat": 4,
 "nbformat_minor": 2
}
